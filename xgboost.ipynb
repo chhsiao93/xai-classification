{
 "cells": [
  {
   "cell_type": "code",
   "execution_count": 24,
   "metadata": {},
   "outputs": [],
   "source": [
    "import xgboost\n",
    "import shap\n",
    "import pandas as pd\n",
    "import matplotlib.pyplot as plt\n",
    "from sklearn.model_selection import train_test_split, RandomizedSearchCV\n",
    "from sklearn.metrics import accuracy_score, ConfusionMatrixDisplay\n",
    "from sklearn.metrics import mean_squared_error\n",
    "from sklearn.model_selection import KFold, cross_val_score, learning_curve\n",
    "from sklearn.metrics import confusion_matrix, make_scorer, cohen_kappa_score, log_loss\n",
    "from sklearn.utils.multiclass import unique_labels\n",
    "from sklearn.ensemble import RandomForestClassifier\n",
    "import numpy as np\n",
    "import time\n",
    "import pickle\n",
    "from scipy import stats"
   ]
  },
  {
   "cell_type": "markdown",
   "metadata": {},
   "source": [
    "# Data preprocessing"
   ]
  },
  {
   "cell_type": "code",
   "execution_count": 25,
   "metadata": {},
   "outputs": [],
   "source": [
    "# the datasets are from DesignSafe\n",
    "df0 = pd.read_csv('RF_YN_Model0.csv')\n",
    "df3 = pd.read_csv('RF_YN_Model3.csv')\n",
    "df5 = pd.read_csv('RF_YN_Model5.csv')"
   ]
  },
  {
   "cell_type": "code",
   "execution_count": 26,
   "metadata": {},
   "outputs": [
    {
     "data": {
      "text/html": [
       "<div>\n",
       "<style scoped>\n",
       "    .dataframe tbody tr th:only-of-type {\n",
       "        vertical-align: middle;\n",
       "    }\n",
       "\n",
       "    .dataframe tbody tr th {\n",
       "        vertical-align: top;\n",
       "    }\n",
       "\n",
       "    .dataframe thead th {\n",
       "        text-align: right;\n",
       "    }\n",
       "</style>\n",
       "<table border=\"1\" class=\"dataframe\">\n",
       "  <thead>\n",
       "    <tr style=\"text-align: right;\">\n",
       "      <th></th>\n",
       "      <th>Test ID</th>\n",
       "      <th>easting__N</th>\n",
       "      <th>northing__</th>\n",
       "      <th>GWD (m)</th>\n",
       "      <th>L (m)</th>\n",
       "      <th>Slope (%)</th>\n",
       "      <th>Elevation</th>\n",
       "      <th>Target</th>\n",
       "      <th>CM pred</th>\n",
       "    </tr>\n",
       "  </thead>\n",
       "  <tbody>\n",
       "    <tr>\n",
       "      <th>0</th>\n",
       "      <td>182</td>\n",
       "      <td>1577615.166</td>\n",
       "      <td>5181561.601</td>\n",
       "      <td>0.370809</td>\n",
       "      <td>319.116999</td>\n",
       "      <td>5.465739</td>\n",
       "      <td>0.909116</td>\n",
       "      <td>0</td>\n",
       "      <td>TN</td>\n",
       "    </tr>\n",
       "    <tr>\n",
       "      <th>1</th>\n",
       "      <td>15635</td>\n",
       "      <td>1577646.782</td>\n",
       "      <td>5182056.484</td>\n",
       "      <td>1.300896</td>\n",
       "      <td>211.770466</td>\n",
       "      <td>0.905948</td>\n",
       "      <td>1.123009</td>\n",
       "      <td>0</td>\n",
       "      <td>TN</td>\n",
       "    </tr>\n",
       "    <tr>\n",
       "      <th>2</th>\n",
       "      <td>8292</td>\n",
       "      <td>1577653.879</td>\n",
       "      <td>5182039.920</td>\n",
       "      <td>1.300896</td>\n",
       "      <td>195.947250</td>\n",
       "      <td>0.849104</td>\n",
       "      <td>0.847858</td>\n",
       "      <td>0</td>\n",
       "      <td>TN</td>\n",
       "    </tr>\n",
       "    <tr>\n",
       "      <th>3</th>\n",
       "      <td>15629</td>\n",
       "      <td>1577685.362</td>\n",
       "      <td>5181809.053</td>\n",
       "      <td>1.788212</td>\n",
       "      <td>115.795053</td>\n",
       "      <td>0.451034</td>\n",
       "      <td>2.044325</td>\n",
       "      <td>0</td>\n",
       "      <td>FP</td>\n",
       "    </tr>\n",
       "    <tr>\n",
       "      <th>4</th>\n",
       "      <td>183</td>\n",
       "      <td>1577700.888</td>\n",
       "      <td>5181709.124</td>\n",
       "      <td>1.637517</td>\n",
       "      <td>137.265348</td>\n",
       "      <td>0.941866</td>\n",
       "      <td>2.003797</td>\n",
       "      <td>1</td>\n",
       "      <td>TP</td>\n",
       "    </tr>\n",
       "  </tbody>\n",
       "</table>\n",
       "</div>"
      ],
      "text/plain": [
       "   Test ID   easting__N   northing__   GWD (m)       L (m)  Slope (%)  \\\n",
       "0      182  1577615.166  5181561.601  0.370809  319.116999   5.465739   \n",
       "1    15635  1577646.782  5182056.484  1.300896  211.770466   0.905948   \n",
       "2     8292  1577653.879  5182039.920  1.300896  195.947250   0.849104   \n",
       "3    15629  1577685.362  5181809.053  1.788212  115.795053   0.451034   \n",
       "4      183  1577700.888  5181709.124  1.637517  137.265348   0.941866   \n",
       "\n",
       "   Elevation  Target CM pred  \n",
       "0   0.909116       0      TN  \n",
       "1   1.123009       0      TN  \n",
       "2   0.847858       0      TN  \n",
       "3   2.044325       0      FP  \n",
       "4   2.003797       1      TP  "
      ]
     },
     "execution_count": 26,
     "metadata": {},
     "output_type": "execute_result"
    }
   ],
   "source": [
    "df0.head()"
   ]
  },
  {
   "cell_type": "code",
   "execution_count": 27,
   "metadata": {},
   "outputs": [],
   "source": [
    "#trim outliers with IQR method\n",
    "def trim_outliers(df):\n",
    "    Q1 = df['Elevation'].quantile(0.25)\n",
    "    Q3 = df['Elevation'].quantile(0.75)\n",
    "    IQR = Q3-Q1\n",
    "    print(f'IQR: {IQR:.2f}')\n",
    "    trimming_matrix = (df['Elevation'] >= (Q1-1.5*IQR)) & (df['Elevation'] <= (Q3+1.5*IQR))\n",
    "    df = df[trimming_matrix]\n",
    "    return df"
   ]
  },
  {
   "cell_type": "code",
   "execution_count": 28,
   "metadata": {},
   "outputs": [
    {
     "name": "stdout",
     "output_type": "stream",
     "text": [
      "IQR: 2.13\n",
      "IQR: 2.13\n",
      "IQR: 2.11\n"
     ]
    }
   ],
   "source": [
    "df0 = trim_outliers(df0)\n",
    "df3 = trim_outliers(df3)\n",
    "df5 = trim_outliers(df5)"
   ]
  },
  {
   "cell_type": "code",
   "execution_count": 29,
   "metadata": {},
   "outputs": [],
   "source": [
    "# these procedures are to make sure that the dataset compatible with the original script.\n",
    "# insert the distance(km) column\n",
    "df0.insert(5,'L (km)',df0['L (m)'].values/1000)\n",
    "df3.insert(5,'L (km)',df3['L (m)'].values/1000)\n",
    "df5.insert(5,'L (km)',df5['L (m)'].values/1000)"
   ]
  },
  {
   "cell_type": "code",
   "execution_count": 30,
   "metadata": {},
   "outputs": [],
   "source": [
    "# drop unnecessary columns\n",
    "df0 = df0.drop(['easting__N', 'northing__', 'L (m)', 'CM pred', 'Elevation'],axis=1)\n",
    "df3 = df3.drop(['easting__N', 'northing__', 'L (m)', 'CM pred'],axis=1)\n",
    "df5 = df5.drop(['easting__N', 'northing__', 'L (m)', '4m_Qtn_med', '4m_Qtn_std', 'CM pred'],axis=1)"
   ]
  },
  {
   "cell_type": "markdown",
   "metadata": {},
   "source": [
    "## Split training, test and validation"
   ]
  },
  {
   "cell_type": "code",
   "execution_count": 31,
   "metadata": {},
   "outputs": [],
   "source": [
    "#define features matrix (X) and target (y)\n",
    "def split_data(df):\n",
    "    X = df.copy(deep=True)\n",
    "    y = df['Target']\n",
    "    X_train_target, X_val_test_target, y_train, y_val_test = train_test_split(X, y, test_size=0.2, random_state=0)\n",
    "    X_test_target, X_val_target, y_test, y_val = train_test_split(X_val_test_target, y_val_test, test_size=0.25, random_state=0)\n",
    "    X_all = X.drop(['Test ID', 'Target'], axis=1)\n",
    "    X_test = X_test_target.drop(['Test ID', 'Target'], axis = 1)\n",
    "    X_train = X_train_target.drop(['Test ID', 'Target'], axis = 1)\n",
    "    X_val = X_val_target.drop(['Test ID', 'Target'], axis = 1)\n",
    "    return {'X':X, 'X_all':X_all, 'y':y,\n",
    "            'X_train_target':X_train_target, 'X_train':X_train, 'y_train':y_train,\n",
    "            'X_test_target':X_test_target, 'X_test':X_test, 'y_test':y_test,\n",
    "            'X_val_target':X_val_target, 'X_val':X_val, 'y_val':y_val\n",
    "           }\n"
   ]
  },
  {
   "cell_type": "code",
   "execution_count": 32,
   "metadata": {},
   "outputs": [],
   "source": [
    "data0 = split_data(df0)\n",
    "data3 = split_data(df3)\n",
    "data5 = split_data(df5)"
   ]
  },
  {
   "cell_type": "code",
   "execution_count": 33,
   "metadata": {},
   "outputs": [],
   "source": [
    "# Write data to pickle\n",
    "file_path = 'xgb_models/'\n",
    "pickle.dump(data0,open(file_path+'data0.pkl','wb'))\n",
    "pickle.dump(data3,open(file_path+'data3.pkl','wb'))\n",
    "pickle.dump(data5,open(file_path+'data5.pkl','wb'))"
   ]
  },
  {
   "cell_type": "markdown",
   "metadata": {},
   "source": [
    "## Optimized model"
   ]
  },
  {
   "cell_type": "code",
   "execution_count": 17,
   "metadata": {},
   "outputs": [],
   "source": [
    "def xgb_training(data, max_depth, n_estimators, eta):\n",
    "    param_list = {'max_depth':max_depth,\n",
    "                  'n_estimators':n_estimators,\n",
    "                  'random_state':0,\n",
    "                  'eval_metric':'logloss',\n",
    "                  'eta':eta\n",
    "                 }\n",
    "    opt_xgb = xgboost.XGBClassifier(**param_list,use_label_encoder=False)\n",
    "    opt_xgb.fit(data['X_train'], data['y_train'], eval_set=[(data['X_train'], data['y_train']), (data['X_val'], data['y_val'])], verbose=0)\n",
    "    return opt_xgb\n",
    "\n"
   ]
  },
  {
   "cell_type": "code",
   "execution_count": 34,
   "metadata": {},
   "outputs": [
    {
     "name": "stderr",
     "output_type": "stream",
     "text": [
      "pandas.Int64Index is deprecated and will be removed from pandas in a future version. Use pandas.Index with the appropriate dtype instead.\n"
     ]
    }
   ],
   "source": [
    "opt_xgb0 = xgb_training(data0, 5, 86, 0.131865)\n",
    "opt_xgb3 = xgb_training(data3, 6, 25, 0.303344)\n",
    "opt_xgb5 = xgb_training(data5, 5, 22, 0.286722)\n",
    "\n",
    "#opt_xgb0 = xgb_training(data0, 9, 5, 0.192022)\n",
    "#opt_xgb3 = xgb_training(data3, 9, 5, 0.192022)\n",
    "#opt_xgb5 = xgb_training(data5, 9, 5, 0.192022)"
   ]
  },
  {
   "cell_type": "code",
   "execution_count": 19,
   "metadata": {},
   "outputs": [],
   "source": [
    "file_path = 'xgb_models/'\n",
    "\n",
    "pickle.dump(opt_xgb0,open(file_path+'opt_XGB_YN0.pkl','wb'))\n",
    "pickle.dump(opt_xgb3,open(file_path+'opt_XGB_YN3.pkl','wb'))\n",
    "pickle.dump(opt_xgb5,open(file_path+'opt_XGB_YN5.pkl','wb'))\n",
    "\n",
    "xgb0 = pickle.load(open('xgb_models/opt_XGB_YN0.pkl', 'rb'))\n",
    "xgb3 = pickle.load(open('xgb_models/opt_XGB_YN3.pkl', 'rb'))\n",
    "xgb5 = pickle.load(open('xgb_models/opt_XGB_YN5.pkl', 'rb'))"
   ]
  },
  {
   "cell_type": "code",
   "execution_count": 20,
   "metadata": {},
   "outputs": [],
   "source": [
    "result0 = xgb0.evals_result()\n",
    "result3 = xgb3.evals_result()\n",
    "result5 = xgb5.evals_result()\n"
   ]
  },
  {
   "cell_type": "code",
   "execution_count": 21,
   "metadata": {},
   "outputs": [
    {
     "data": {
      "image/png": "[encoded data removed]",
      "text/plain": [
       "<Figure size 576x432 with 1 Axes>"
      ]
     },
     "metadata": {
      "needs_background": "light"
     },
     "output_type": "display_data"
    }
   ],
   "source": [
    "plt.figure(figsize=(8,6))\n",
    "plt.plot(range(1,1+xgb0.n_estimators),result0['validation_0']['logloss'],'b--',label='YN0_train')\n",
    "plt.plot(range(1,1+xgb0.n_estimators),result0['validation_1']['logloss'],'b',label='YN0_val')\n",
    "plt.plot(range(1,1+xgb3.n_estimators),result3['validation_0']['logloss'],'g--',label='YN3_train')\n",
    "plt.plot(range(1,1+xgb3.n_estimators),result3['validation_1']['logloss'],'g',label='YN3_val')\n",
    "plt.plot(range(1,1+xgb5.n_estimators),result5['validation_0']['logloss'],'r--',label='YN5_train')\n",
    "plt.plot(range(1,1+xgb5.n_estimators),result5['validation_1']['logloss'],'r',label='YN5_val')\n",
    "plt.xlabel('n_estimators')\n",
    "plt.xscale('log')\n",
    "plt.ylabel('log_loss')\n",
    "plt.legend(ncol=3)\n",
    "#plt.yticks(np.arange(1, 9, 1)*0.25)\n",
    "#plt.xlim(0.8,1000)\n",
    "plt.title('Logistic Loss of XGB vs Number of Estimators')\n",
    "plt.savefig('opt_XGB_loss.png')"
   ]
  },
  {
   "cell_type": "code",
   "execution_count": 22,
   "metadata": {},
   "outputs": [
    {
     "name": "stdout",
     "output_type": "stream",
     "text": [
      "YN0\n",
      "Training score: 77.92%\n",
      "Validation score: 67.32%\n",
      "Testing score: 68.67%\n",
      "Overall score: 76.00%\n",
      "\n",
      "YN3\n",
      "Training score: 89.65%\n",
      "Validation score: 79.44%\n",
      "Testing score: 81.75%\n",
      "Overall score: 87.95%\n",
      "\n",
      "YN5\n",
      "Training score: 86.49%\n",
      "Validation score: 83.13%\n",
      "Testing score: 81.54%\n",
      "Overall score: 85.58%\n",
      "\n"
     ]
    },
    {
     "name": "stderr",
     "output_type": "stream",
     "text": [
      "pandas.Int64Index is deprecated and will be removed from pandas in a future version. Use pandas.Index with the appropriate dtype instead.\n",
      "pandas.Int64Index is deprecated and will be removed from pandas in a future version. Use pandas.Index with the appropriate dtype instead.\n",
      "pandas.Int64Index is deprecated and will be removed from pandas in a future version. Use pandas.Index with the appropriate dtype instead.\n",
      "pandas.Int64Index is deprecated and will be removed from pandas in a future version. Use pandas.Index with the appropriate dtype instead.\n",
      "pandas.Int64Index is deprecated and will be removed from pandas in a future version. Use pandas.Index with the appropriate dtype instead.\n",
      "pandas.Int64Index is deprecated and will be removed from pandas in a future version. Use pandas.Index with the appropriate dtype instead.\n",
      "pandas.Int64Index is deprecated and will be removed from pandas in a future version. Use pandas.Index with the appropriate dtype instead.\n",
      "pandas.Int64Index is deprecated and will be removed from pandas in a future version. Use pandas.Index with the appropriate dtype instead.\n",
      "pandas.Int64Index is deprecated and will be removed from pandas in a future version. Use pandas.Index with the appropriate dtype instead.\n",
      "pandas.Int64Index is deprecated and will be removed from pandas in a future version. Use pandas.Index with the appropriate dtype instead.\n",
      "pandas.Int64Index is deprecated and will be removed from pandas in a future version. Use pandas.Index with the appropriate dtype instead.\n"
     ]
    }
   ],
   "source": [
    "for model_name, xgb, data in zip(['YN0','YN3','YN5'], [xgb0, xgb3, xgb5], [data0, data3, data5]):\n",
    "    print(model_name)\n",
    "    print('Training score: %.2f%%' %(xgb.score(data['X_train'], data['y_train']) * 100))\n",
    "    print('Validation score: %.2f%%' %(xgb.score(data['X_val'], data['y_val']) * 100))\n",
    "    print('Testing score: %.2f%%' %(xgb.score(data['X_test'], data['y_test']) * 100))\n",
    "    print('Overall score: %.2f%%\\n' %(xgb.score(data['X_all'], data['y']) * 100))"
   ]
  },
  {
   "cell_type": "code",
   "execution_count": 23,
   "metadata": {},
   "outputs": [
    {
     "ename": "NameError",
     "evalue": "name 'model' is not defined",
     "output_type": "error",
     "traceback": [
      "\u001b[0;31m---------------------------------------------------------------------------\u001b[0m",
      "\u001b[0;31mNameError\u001b[0m                                 Traceback (most recent call last)",
      "\u001b[1;32m/Users/krishna/research/ml/xai-classification/xgboost.ipynb Cell 20'\u001b[0m in \u001b[0;36m<module>\u001b[0;34m\u001b[0m\n\u001b[1;32m      <a href='vscode-notebook-cell:/Users/krishna/research/ml/xai-classification/xgboost.ipynb#ch0000021?line=0'>1</a>\u001b[0m \u001b[39m#make prediction\u001b[39;00m\n\u001b[0;32m----> <a href='vscode-notebook-cell:/Users/krishna/research/ml/xai-classification/xgboost.ipynb#ch0000021?line=1'>2</a>\u001b[0m Y_pred_test \u001b[39m=\u001b[39m model\u001b[39m.\u001b[39mpredict(X_test)\n\u001b[1;32m      <a href='vscode-notebook-cell:/Users/krishna/research/ml/xai-classification/xgboost.ipynb#ch0000021?line=2'>3</a>\u001b[0m Y_pred_train \u001b[39m=\u001b[39m model\u001b[39m.\u001b[39mpredict(X_train)\n\u001b[1;32m      <a href='vscode-notebook-cell:/Users/krishna/research/ml/xai-classification/xgboost.ipynb#ch0000021?line=3'>4</a>\u001b[0m Y_pred_all \u001b[39m=\u001b[39m model\u001b[39m.\u001b[39mpredict(X_all)\n",
      "\u001b[0;31mNameError\u001b[0m: name 'model' is not defined"
     ]
    }
   ],
   "source": [
    "#make prediction\n",
    "Y_pred_test = model.predict(X_test)\n",
    "Y_pred_train = model.predict(X_train)\n",
    "Y_pred_all = model.predict(X_all)\n",
    "\n",
    "#assign class names\n",
    "class_names=np.array(['No lateral spreading','Lateral spreading'], dtype='U25')\n",
    "\n",
    "# Plot non-normalized confusion matrix for training dataset\n",
    "np.set_printoptions(precision=2)\n",
    "plots.plot_confusion_matrix(y_train, Y_pred_train, classes=class_names,\n",
    "                      title='Confusion matrix, without normalization - Train')\n",
    "\n",
    "# Plot normalized confusion matrix for training dataset\n",
    "plots.plot_confusion_matrix(y_train, Y_pred_train, classes=class_names, normalize=True,\n",
    "                      title='Normalized confusion matrix - Train')\n",
    "\n",
    "np.set_printoptions(precision=2)\n",
    "# Plot non-normalized confusion matrix for testing dataset\n",
    "plots.plot_confusion_matrix(y_test, Y_pred_test, classes=class_names,\n",
    "                      title='Confusion matrix, without normalization - Test')\n",
    "\n",
    "# Plot normalized confusion matrix for testing dataset\n",
    "plots.plot_confusion_matrix(y_test, Y_pred_test, classes=class_names, normalize=True,\n",
    "                      title='Normalized confusion matrix - Test')\n",
    "plt.show()\n",
    "\n",
    "\n",
    "# Plot non-normalized confusion matrix for whole dataset\n",
    "plots.plot_confusion_matrix(y, Y_pred_all, classes=class_names,\n",
    "                      title='Confusion matrix, without normalization - All')\n",
    "\n",
    "# Plot normalized confusion matrix for whole dataset\n",
    "plots.plot_confusion_matrix(y, Y_pred_all, classes=class_names, normalize=True,\n",
    "                      title='Normalized confusion matrix - All')\n",
    "plt.show()"
   ]
  },
  {
   "cell_type": "code",
   "execution_count": null,
   "metadata": {},
   "outputs": [],
   "source": []
  }
 ],
 "metadata": {
  "interpreter": {
   "hash": "a15fe14c9164b2c84764451972c480ab7caecb14ffdaafbc4f746bd44fda90e1"
  },
  "kernelspec": {
   "display_name": "Python 3.8.12 ('xai')",
   "language": "python",
   "name": "python3"
  },
  "language_info": {
   "codemirror_mode": {
    "name": "ipython",
    "version": 3
   },
   "file_extension": ".py",
   "mimetype": "text/x-python",
   "name": "python",
   "nbconvert_exporter": "python",
   "pygments_lexer": "ipython3",
   "version": "3.8.12"
  },
  "orig_nbformat": 4
 },
 "nbformat": 4,
 "nbformat_minor": 2
}
